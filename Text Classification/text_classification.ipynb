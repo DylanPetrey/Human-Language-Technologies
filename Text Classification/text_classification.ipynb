{
 "cells": [
  {
   "cell_type": "markdown",
   "metadata": {},
   "source": [
    "# Data\n",
    "\n",
    "The dataset I had picked out contains over 600,000 reddit posts from mental disorder subreddits. The goal for each of the models is to take the text and be able to identify the disorder associated with it. I do wish it included other subreddits so the model would be able to detect ADHD and Autism because those are just as relevant.\n",
    "\n",
    "Dataset: https://www.kaggle.com/datasets/kamaruladha/mental-disorders-identification-reddit-nlp\n"
   ]
  },
  {
   "cell_type": "markdown",
   "source": [
    "# Preparation for Models\n",
    "## Imports"
   ],
   "metadata": {
    "collapsed": false
   }
  },
  {
   "cell_type": "code",
   "execution_count": 3,
   "outputs": [],
   "source": [
    "import numpy as np\n",
    "import pandas as pd\n",
    "import tensorflow as tf\n",
    "\n",
    "from tensorflow.keras import datasets, layers, models\n",
    "from transformers import AutoTokenizer\n",
    "from sklearn.metrics import classification_report\n",
    "from sklearn.preprocessing import LabelEncoder"
   ],
   "metadata": {
    "collapsed": false
   }
  },
  {
   "cell_type": "markdown",
   "metadata": {},
   "source": [
    "## Load csv and make it a smaller sample"
   ]
  },
  {
   "cell_type": "code",
   "execution_count": 4,
   "metadata": {},
   "outputs": [
    {
     "data": {
      "text/plain": "  subreddit                                title\n0       BPD  Life is so pointless without others\n1       BPD                           Cold rage?\n2       BPD                I don’t know who I am\n3       BPD              HELP! Opinions! Advice!\n4       BPD         My ex got diagnosed with BPD",
      "text/html": "<div>\n<style scoped>\n    .dataframe tbody tr th:only-of-type {\n        vertical-align: middle;\n    }\n\n    .dataframe tbody tr th {\n        vertical-align: top;\n    }\n\n    .dataframe thead th {\n        text-align: right;\n    }\n</style>\n<table border=\"1\" class=\"dataframe\">\n  <thead>\n    <tr style=\"text-align: right;\">\n      <th></th>\n      <th>subreddit</th>\n      <th>title</th>\n    </tr>\n  </thead>\n  <tbody>\n    <tr>\n      <th>0</th>\n      <td>BPD</td>\n      <td>Life is so pointless without others</td>\n    </tr>\n    <tr>\n      <th>1</th>\n      <td>BPD</td>\n      <td>Cold rage?</td>\n    </tr>\n    <tr>\n      <th>2</th>\n      <td>BPD</td>\n      <td>I don’t know who I am</td>\n    </tr>\n    <tr>\n      <th>3</th>\n      <td>BPD</td>\n      <td>HELP! Opinions! Advice!</td>\n    </tr>\n    <tr>\n      <th>4</th>\n      <td>BPD</td>\n      <td>My ex got diagnosed with BPD</td>\n    </tr>\n  </tbody>\n</table>\n</div>"
     },
     "execution_count": 2,
     "metadata": {},
     "output_type": "execute_result"
    },
    {
     "data": {
      "text/plain": "  subreddit                                title\n0       BPD  Life is so pointless without others\n1       BPD                           Cold rage?\n2       BPD                I don’t know who I am\n3       BPD              HELP! Opinions! Advice!\n4       BPD         My ex got diagnosed with BPD",
      "text/html": "<div>\n<style scoped>\n    .dataframe tbody tr th:only-of-type {\n        vertical-align: middle;\n    }\n\n    .dataframe tbody tr th {\n        vertical-align: top;\n    }\n\n    .dataframe thead th {\n        text-align: right;\n    }\n</style>\n<table border=\"1\" class=\"dataframe\">\n  <thead>\n    <tr style=\"text-align: right;\">\n      <th></th>\n      <th>subreddit</th>\n      <th>title</th>\n    </tr>\n  </thead>\n  <tbody>\n    <tr>\n      <th>0</th>\n      <td>BPD</td>\n      <td>Life is so pointless without others</td>\n    </tr>\n    <tr>\n      <th>1</th>\n      <td>BPD</td>\n      <td>Cold rage?</td>\n    </tr>\n    <tr>\n      <th>2</th>\n      <td>BPD</td>\n      <td>I don’t know who I am</td>\n    </tr>\n    <tr>\n      <th>3</th>\n      <td>BPD</td>\n      <td>HELP! Opinions! Advice!</td>\n    </tr>\n    <tr>\n      <th>4</th>\n      <td>BPD</td>\n      <td>My ex got diagnosed with BPD</td>\n    </tr>\n  </tbody>\n</table>\n</div>"
     },
     "execution_count": 4,
     "metadata": {},
     "output_type": "execute_result"
    }
   ],
   "source": [
    "max_features = 5000\n",
    "\n",
    "df = pd.read_csv('mental_disorders_reddit.csv')\n",
    "df = df[df.selftext != '[removed]']\n",
    "df = df.dropna()\n",
    "df = df.reset_index(drop=True)\n",
    "df.sample(max_features)\n",
    "\n",
    "df = df[['subreddit', 'title']]\n",
    "df.head()"
   ]
  },
  {
   "cell_type": "markdown",
   "metadata": {},
   "source": [
    "## Divide into train and test"
   ]
  },
  {
   "cell_type": "code",
   "execution_count": 5,
   "metadata": {},
   "outputs": [
    {
     "name": "stdout",
     "output_type": "stream",
     "text": [
      "train data size:  (465188, 2)\n",
      "test data size:  (116029, 2)\n"
     ]
    }
   ],
   "source": [
    "# split df into train and test\n",
    "np.random.seed(1234)\n",
    "i = np.random.rand(len(df)) < 0.8\n",
    "train = df[i]\n",
    "test = df[~i]\n",
    "\n",
    "print(\"train data size: \", train.shape)\n",
    "print(\"test data size: \", test.shape)"
   ]
  },
  {
   "cell_type": "markdown",
   "metadata": {},
   "source": [
    "## Plot categories"
   ]
  },
  {
   "cell_type": "code",
   "execution_count": 6,
   "metadata": {},
   "outputs": [
    {
     "data": {
      "text/plain": "<AxesSubplot: >"
     },
     "execution_count": 6,
     "metadata": {},
     "output_type": "execute_result"
    },
    {
     "data": {
      "text/plain": "<Figure size 640x480 with 1 Axes>",
      "image/png": "[encoded data removed]"
     },
     "metadata": {},
     "output_type": "display_data"
    }
   ],
   "source": [
    "train.subreddit.value_counts().plot(kind='bar')"
   ]
  },
  {
   "cell_type": "markdown",
   "metadata": {},
   "source": [
    "## Divide into train and test"
   ]
  },
  {
   "cell_type": "code",
   "execution_count": 7,
   "metadata": {},
   "outputs": [],
   "source": [
    "# set up X and Y\n",
    "num_labels = 6\n",
    "batch_size = 100\n",
    "\n",
    "tokenizer = AutoTokenizer.from_pretrained('bert-base-cased')\n",
    "\n",
    "x_train_tok = tokenizer(list(train.title), return_tensors= 'np', padding = True)['input_ids']\n",
    "x_test_tok = tokenizer(list(test.title), return_tensors= 'np', padding = True)['input_ids']"
   ]
  },
  {
   "cell_type": "code",
   "execution_count": 8,
   "metadata": {},
   "outputs": [],
   "source": [
    "max_train = x_train_tok.max()\n",
    "max_test = x_test_tok.max()\n",
    "dim = max(max_train, max_test)\n",
    "dim += 1\n",
    "\n",
    "def vectorize_sequences(sequences, dimension=dim):\n",
    "    # Create an all-zero matrix of shape (len(sequences), dimension)\n",
    "    results = np.zeros((len(sequences), dimension))\n",
    "    for i, sequence in enumerate(sequences):\n",
    "        results[i, sequence] = 1.  # set specific indices of results[i] to 1s\n",
    "    return results\n",
    "\n",
    "# Vectorized training data\n",
    "x_train = vectorize_sequences(x_train_tok[:max_features])\n",
    "x_test = vectorize_sequences(x_test_tok[:max_features])"
   ]
  },
  {
   "cell_type": "code",
   "execution_count": 9,
   "metadata": {},
   "outputs": [
    {
     "name": "stdout",
     "output_type": "stream",
     "text": [
      "train shapes: (5000, 28773) (5000,)\n",
      "test shapes: (5000, 28773) (5000,)\n",
      "test first five labels: [1 1 1 1 1]\n"
     ]
    }
   ],
   "source": [
    "# Vectorized labels\n",
    "encoder = LabelEncoder()\n",
    "encoder.fit(train.subreddit)\n",
    "y_train = encoder.transform(train.subreddit)\n",
    "y_test = encoder.transform(test.subreddit)\n",
    "\n",
    "y_train = y_train[:max_features]\n",
    "y_test = y_test[:max_features]\n",
    "\n",
    "# check shape\n",
    "print(\"train shapes:\", x_train.shape, y_train.shape)\n",
    "print(\"test shapes:\", x_test.shape, y_test.shape)\n",
    "print(\"test first five labels:\", y_test[:5])\n"
   ]
  },
  {
   "cell_type": "markdown",
   "metadata": {},
   "source": [
    "## Create validation set"
   ]
  },
  {
   "cell_type": "code",
   "execution_count": 10,
   "metadata": {},
   "outputs": [
    {
     "name": "stdout",
     "output_type": "stream",
     "text": [
      "validation shapes: (4000, 28773) (4000,)\n"
     ]
    }
   ],
   "source": [
    "x_size = int(len(x_train) * 0.2)\n",
    "x_val = x_train[:x_size]\n",
    "partial_x_train = x_train[x_size:]\n",
    "\n",
    "y_size = int(len(y_train) * 0.2)\n",
    "y_val = y_train[:y_size]\n",
    "partial_y_train = y_train[y_size:]\n",
    "\n",
    "# check shape\n",
    "print(\"validation shapes:\", partial_x_train.shape, partial_y_train.shape)"
   ]
  },
  {
   "cell_type": "markdown",
   "metadata": {},
   "source": [
    "# Sequential Model"
   ]
  },
  {
   "cell_type": "code",
   "execution_count": 10,
   "metadata": {},
   "outputs": [
    {
     "name": "stdout",
     "output_type": "stream",
     "text": [
      "Model: \"sequential\"\n",
      "_________________________________________________________________\n",
      " Layer (type)                Output Shape              Param #   \n",
      "=================================================================\n",
      " dense (Dense)               (None, 16)                460384    \n",
      "                                                                 \n",
      " dense_1 (Dense)             (None, 16)                272       \n",
      "                                                                 \n",
      " dense_2 (Dense)             (None, 1)                 17        \n",
      "                                                                 \n",
      "=================================================================\n",
      "Total params: 460,673\n",
      "Trainable params: 460,673\n",
      "Non-trainable params: 0\n",
      "_________________________________________________________________\n",
      "Epoch 1/20\n",
      "8/8 [==============================] - 1s 81ms/step - loss: 0.5952 - accuracy: 0.9880 - val_loss: 0.4935 - val_accuracy: 1.0000\n",
      "Epoch 2/20\n",
      "8/8 [==============================] - 0s 37ms/step - loss: 0.4300 - accuracy: 1.0000 - val_loss: 0.3662 - val_accuracy: 1.0000\n",
      "Epoch 3/20\n",
      "8/8 [==============================] - 0s 37ms/step - loss: 0.3155 - accuracy: 1.0000 - val_loss: 0.2707 - val_accuracy: 1.0000\n",
      "Epoch 4/20\n",
      "8/8 [==============================] - 0s 35ms/step - loss: 0.2305 - accuracy: 1.0000 - val_loss: 0.1990 - val_accuracy: 1.0000\n",
      "Epoch 5/20\n",
      "8/8 [==============================] - 0s 36ms/step - loss: 0.1677 - accuracy: 1.0000 - val_loss: 0.1457 - val_accuracy: 1.0000\n",
      "Epoch 6/20\n",
      "8/8 [==============================] - 0s 34ms/step - loss: 0.1218 - accuracy: 1.0000 - val_loss: 0.1065 - val_accuracy: 1.0000\n",
      "Epoch 7/20\n",
      "8/8 [==============================] - 0s 38ms/step - loss: 0.0883 - accuracy: 1.0000 - val_loss: 0.0777 - val_accuracy: 1.0000\n",
      "Epoch 8/20\n",
      "8/8 [==============================] - 0s 36ms/step - loss: 0.0641 - accuracy: 1.0000 - val_loss: 0.0568 - val_accuracy: 1.0000\n",
      "Epoch 9/20\n",
      "8/8 [==============================] - 0s 35ms/step - loss: 0.0465 - accuracy: 1.0000 - val_loss: 0.0414 - val_accuracy: 1.0000\n",
      "Epoch 10/20\n",
      "8/8 [==============================] - 0s 36ms/step - loss: 0.0337 - accuracy: 1.0000 - val_loss: 0.0302 - val_accuracy: 1.0000\n",
      "Epoch 11/20\n",
      "8/8 [==============================] - 0s 34ms/step - loss: 0.0245 - accuracy: 1.0000 - val_loss: 0.0220 - val_accuracy: 1.0000\n",
      "Epoch 12/20\n",
      "8/8 [==============================] - 0s 36ms/step - loss: 0.0178 - accuracy: 1.0000 - val_loss: 0.0159 - val_accuracy: 1.0000\n",
      "Epoch 13/20\n",
      "8/8 [==============================] - 0s 34ms/step - loss: 0.0129 - accuracy: 1.0000 - val_loss: 0.0116 - val_accuracy: 1.0000\n",
      "Epoch 14/20\n",
      "8/8 [==============================] - 0s 37ms/step - loss: 0.0093 - accuracy: 1.0000 - val_loss: 0.0084 - val_accuracy: 1.0000\n",
      "Epoch 15/20\n",
      "8/8 [==============================] - 0s 37ms/step - loss: 0.0067 - accuracy: 1.0000 - val_loss: 0.0060 - val_accuracy: 1.0000\n",
      "Epoch 16/20\n",
      "8/8 [==============================] - 0s 37ms/step - loss: 0.0048 - accuracy: 1.0000 - val_loss: 0.0044 - val_accuracy: 1.0000\n",
      "Epoch 17/20\n",
      "8/8 [==============================] - 0s 37ms/step - loss: 0.0035 - accuracy: 1.0000 - val_loss: 0.0031 - val_accuracy: 1.0000\n",
      "Epoch 18/20\n",
      "8/8 [==============================] - 0s 35ms/step - loss: 0.0025 - accuracy: 1.0000 - val_loss: 0.0023 - val_accuracy: 1.0000\n",
      "Epoch 19/20\n",
      "8/8 [==============================] - 0s 32ms/step - loss: 0.0018 - accuracy: 1.0000 - val_loss: 0.0016 - val_accuracy: 1.0000\n",
      "Epoch 20/20\n",
      "8/8 [==============================] - 0s 32ms/step - loss: 0.0013 - accuracy: 1.0000 - val_loss: 0.0012 - val_accuracy: 1.0000\n"
     ]
    }
   ],
   "source": [
    "seq_model = models.Sequential()\n",
    "seq_model.add(layers.Dense(16, activation='relu', input_shape=(dim,)))\n",
    "seq_model.add(layers.Dense(16, activation='relu'))\n",
    "seq_model.add(layers.Dense(1, activation='sigmoid'))\n",
    "\n",
    "seq_model.summary()\n",
    "\n",
    "# compile\n",
    "seq_model.compile(optimizer='rmsprop',\n",
    "              loss=tf.keras.losses.BinaryCrossentropy(),\n",
    "              metrics=['accuracy'])\n",
    "\n",
    "# train\n",
    "history = seq_model.fit(partial_x_train,\n",
    "                    partial_y_train,\n",
    "                    epochs=20,\n",
    "                    batch_size=512,\n",
    "                    validation_data=(x_val, y_val))"
   ]
  },
  {
   "cell_type": "code",
   "execution_count": 11,
   "metadata": {},
   "outputs": [
    {
     "name": "stdout",
     "output_type": "stream",
     "text": [
      "157/157 [==============================] - 0s 3ms/step\n",
      "              precision    recall  f1-score   support\n",
      "\n",
      "           1       1.00      1.00      1.00      5000\n",
      "\n",
      "    accuracy                           1.00      5000\n",
      "   macro avg       1.00      1.00      1.00      5000\n",
      "weighted avg       1.00      1.00      1.00      5000\n",
      "\n",
      "40/40 [==============================] - 0s 4ms/step - loss: 0.0012 - accuracy: 1.0000\n",
      "[0.001209421781823039, 1.0]\n"
     ]
    }
   ],
   "source": [
    "pred = seq_model.predict(x_test)\n",
    "pred = [1.0 if p>= 0.5 else 0.0 for p in pred]\n",
    "print(classification_report(y_test, pred))\n",
    "\n",
    "# use tf evaluation method\n",
    "\n",
    "losses_and_metrics = seq_model.evaluate(x_test, y_test, batch_size=128)\n",
    "print(losses_and_metrics)"
   ]
  },
  {
   "cell_type": "markdown",
   "metadata": {},
   "source": [
    "# CNN"
   ]
  },
  {
   "cell_type": "code",
   "execution_count": 11,
   "metadata": {},
   "outputs": [
    {
     "name": "stdout",
     "output_type": "stream",
     "text": [
      "Model: \"sequential_1\"\n",
      "_________________________________________________________________\n",
      " Layer (type)                Output Shape              Param #   \n",
      "=================================================================\n",
      " embedding (Embedding)       (None, 28773, 128)        640000    \n",
      "                                                                 \n",
      " conv1d (Conv1D)             (None, 28767, 32)         28704     \n",
      "                                                                 \n",
      " max_pooling1d (MaxPooling1D  (None, 5753, 32)         0         \n",
      " )                                                               \n",
      "                                                                 \n",
      " conv1d_1 (Conv1D)           (None, 5747, 32)          7200      \n",
      "                                                                 \n",
      " global_max_pooling1d (Globa  (None, 32)               0         \n",
      " lMaxPooling1D)                                                  \n",
      "                                                                 \n",
      " dense_3 (Dense)             (None, 1)                 33        \n",
      "                                                                 \n",
      "=================================================================\n",
      "Total params: 675,937\n",
      "Trainable params: 675,937\n",
      "Non-trainable params: 0\n",
      "_________________________________________________________________\n",
      "Epoch 1/5\n",
      "32/32 [==============================] - 233s 7s/step - loss: 0.3578 - accuracy: 0.8400 - val_loss: 0.0000e+00 - val_accuracy: 1.0000\n",
      "Epoch 2/5\n",
      "32/32 [==============================] - 236s 7s/step - loss: 0.0000e+00 - accuracy: 1.0000 - val_loss: 0.0000e+00 - val_accuracy: 1.0000\n",
      "Epoch 3/5\n",
      "32/32 [==============================] - 227s 7s/step - loss: 0.0000e+00 - accuracy: 1.0000 - val_loss: 0.0000e+00 - val_accuracy: 1.0000\n",
      "Epoch 4/5\n",
      "32/32 [==============================] - 247s 8s/step - loss: 0.0000e+00 - accuracy: 1.0000 - val_loss: 0.0000e+00 - val_accuracy: 1.0000\n",
      "Epoch 5/5\n",
      "32/32 [==============================] - 224s 7s/step - loss: 0.0000e+00 - accuracy: 1.0000 - val_loss: 0.0000e+00 - val_accuracy: 1.0000\n"
     ]
    }
   ],
   "source": [
    "cnn_model = models.Sequential()\n",
    "cnn_model.add(layers.Embedding(max_features, 128, input_length=dim))\n",
    "cnn_model.add(layers.Conv1D(32, 7, activation='relu'))\n",
    "cnn_model.add(layers.MaxPooling1D(5))\n",
    "cnn_model.add(layers.Conv1D(32, 7, activation='relu'))\n",
    "cnn_model.add(layers.GlobalMaxPooling1D())\n",
    "cnn_model.add(layers.Dense(1))\n",
    "\n",
    "cnn_model.summary()\n",
    "\n",
    "# compile\n",
    "cnn_model.compile(optimizer='rmsprop',\n",
    "              loss=tf.keras.losses.BinaryCrossentropy(),\n",
    "              metrics=['accuracy'])\n",
    "\n",
    "# train\n",
    "history = cnn_model.fit(partial_x_train,\n",
    "                    partial_y_train,\n",
    "                    epochs=5,\n",
    "                    batch_size=128,\n",
    "                    validation_data=(x_val, y_val))\n"
   ]
  },
  {
   "cell_type": "code",
   "execution_count": 12,
   "metadata": {},
   "outputs": [
    {
     "name": "stdout",
     "output_type": "stream",
     "text": [
      "157/157 [==============================] - 51s 322ms/step\n",
      "              precision    recall  f1-score   support\n",
      "\n",
      "           1       1.00      1.00      1.00      5000\n",
      "\n",
      "    accuracy                           1.00      5000\n",
      "   macro avg       1.00      1.00      1.00      5000\n",
      "weighted avg       1.00      1.00      1.00      5000\n",
      "\n",
      "40/40 [==============================] - 50s 1s/step - loss: 0.0000e+00 - accuracy: 1.0000\n",
      "[0.0, 1.0]\n"
     ]
    }
   ],
   "source": [
    "# use sklearn evaluation\n",
    "pred = cnn_model.predict(x_test)\n",
    "pred = [1.0 if p >= 0.5 else 0.0 for p in pred]\n",
    "print(classification_report(y_test, pred))\n",
    "\n",
    "# use tf evaluation method\n",
    "losses_and_metrics = cnn_model.evaluate(x_test, y_test, batch_size=128)\n",
    "print(losses_and_metrics)\n"
   ]
  },
  {
   "cell_type": "markdown",
   "metadata": {},
   "source": [
    "# LSTM"
   ]
  },
  {
   "cell_type": "code",
   "execution_count": null,
   "metadata": {},
   "outputs": [
    {
     "name": "stdout",
     "output_type": "stream",
     "text": [
      "Model: \"sequential_1\"\n",
      "_________________________________________________________________\n",
      " Layer (type)                Output Shape              Param #   \n",
      "=================================================================\n",
      " embedding (Embedding)       (None, None, 32)          160000    \n",
      "                                                                 \n",
      " lstm (LSTM)                 (None, 32)                8320      \n",
      "                                                                 \n",
      " dense_3 (Dense)             (None, 1)                 33        \n",
      "                                                                 \n",
      "=================================================================\n",
      "Total params: 168,353\n",
      "Trainable params: 168,353\n",
      "Non-trainable params: 0\n",
      "_________________________________________________________________\n",
      "Epoch 1/5\n"
     ]
    }
   ],
   "source": [
    "# build a model with LSTM\n",
    "lstm_model = models.Sequential()\n",
    "lstm_model.add(layers.Embedding(max_features, 32))\n",
    "lstm_model.add(layers.LSTM(32))\n",
    "lstm_model.add(layers.Dense(1, activation='sigmoid'))\n",
    "\n",
    "lstm_model.summary()\n",
    "\n",
    "# compile\n",
    "lstm_model.compile(optimizer='rmsprop',\n",
    "              loss=tf.keras.losses.BinaryCrossentropy(),\n",
    "              metrics=['accuracy'])\n",
    "\n",
    "# train\n",
    "history = lstm_model.fit(partial_x_train,\n",
    "                    partial_y_train,\n",
    "                    epochs=5,\n",
    "                    batch_size=128,\n",
    "                    validation_data=(x_val, y_val))"
   ]
  },
  {
   "cell_type": "code",
   "execution_count": null,
   "metadata": {},
   "outputs": [],
   "source": [
    "# use sklearn evaluation\n",
    "pred = lstm_model.predict(x_test)\n",
    "pred = [1.0 if p >= 0.5 else 0.0 for p in pred]\n",
    "print(classification_report(y_test, pred))\n",
    "\n",
    "# use tf evaluation method\n",
    "losses_and_metrics = lstm_model.evaluate(x_test, y_test, batch_size=128)\n",
    "print(losses_and_metrics)"
   ]
  },
  {
   "cell_type": "markdown",
   "metadata": {},
   "source": [
    "# GRU"
   ]
  },
  {
   "cell_type": "code",
   "execution_count": null,
   "metadata": {
    "pycharm": {
     "is_executing": true
    }
   },
   "outputs": [
    {
     "name": "stdout",
     "output_type": "stream",
     "text": [
      "Model: \"sequential_1\"\n",
      "_________________________________________________________________\n",
      " Layer (type)                Output Shape              Param #   \n",
      "=================================================================\n",
      " embedding_1 (Embedding)     (None, None, 32)          32000     \n",
      "                                                                 \n",
      " gru_1 (GRU)                 (None, 32)                6336      \n",
      "                                                                 \n",
      " dense_1 (Dense)             (None, 1)                 33        \n",
      "                                                                 \n",
      "=================================================================\n",
      "Total params: 38,369\n",
      "Trainable params: 38,369\n",
      "Non-trainable params: 0\n",
      "_________________________________________________________________\n",
      "Epoch 1/5\n"
     ]
    }
   ],
   "source": [
    "gru_model = models.Sequential()\n",
    "gru_model.add(layers.Embedding(1000, 32))\n",
    "gru_model.add(layers.GRU(32))\n",
    "gru_model.add(layers.Dense(1, activation='sigmoid'))\n",
    "\n",
    "gru_model.summary()\n",
    "\n",
    "# compile\n",
    "gru_model.compile(optimizer='rmsprop',\n",
    "              loss=tf.keras.losses.BinaryCrossentropy(),\n",
    "              metrics=['accuracy'])\n",
    "\n",
    "# train\n",
    "history = gru_model.fit(partial_x_train,\n",
    "                    partial_y_train,\n",
    "                    epochs=5,\n",
    "                    batch_size=128,\n",
    "                    validation_data=(x_val, y_val))"
   ]
  },
  {
   "cell_type": "code",
   "execution_count": null,
   "metadata": {},
   "outputs": [],
   "source": [
    "# use sklearn evaluation\n",
    "pred = gru_model.predict(x_test)\n",
    "pred = [1.0 if p >= 0.5 else 0.0 for p in pred]\n",
    "print(classification_report(y_test, pred))\n",
    "\n",
    "# use tf evaluation method\n",
    "losses_and_metrics = gru_model.evaluate(x_test, y_test, batch_size=128)\n",
    "print(losses_and_metrics)"
   ]
  },
  {
   "cell_type": "markdown",
   "source": [
    "# Analysis\n",
    "Looking at the Sequential model and the CNN model, both achieved perfect accuracy and little to no loss. I believe this is due the large number of columns in the train data. Unfortunately, due the shape of the train data, I am unable to run train LSTM and GRU. Initially, I also had an RNN model, but I deleted it last night because it was taking too long and I wanted to have everything finished by the morning. I did manage to get through one epoch of the RNN, but I had configured my data incorrectly, and it still had a high accuracy. All three were estimating around 5 hours per epoch."
   ],
   "metadata": {
    "collapsed": false
   }
  }
 ],
 "metadata": {
  "kernelspec": {
   "display_name": "Python 3 (ipykernel)",
   "language": "python",
   "name": "python3"
  },
  "language_info": {
   "codemirror_mode": {
    "name": "ipython",
    "version": 3
   },
   "file_extension": ".py",
   "mimetype": "text/x-python",
   "name": "python",
   "nbconvert_exporter": "python",
   "pygments_lexer": "ipython3",
   "version": "3.9.4"
  },
  "vscode": {
   "interpreter": {
    "hash": "66ab87c5544fc6db13c64f97bfe602acaa7473938449ac42fc291f2a1d10efc6"
   }
  }
 },
 "nbformat": 4,
 "nbformat_minor": 2
}
